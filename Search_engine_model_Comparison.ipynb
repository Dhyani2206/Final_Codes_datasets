{
  "nbformat": 4,
  "nbformat_minor": 0,
  "metadata": {
    "colab": {
      "provenance": []
    },
    "kernelspec": {
      "name": "python3",
      "display_name": "Python 3"
    },
    "language_info": {
      "name": "python"
    }
  },
  "cells": [
    {
      "cell_type": "code",
      "source": [
        "!pip install sentence-transformers"
      ],
      "metadata": {
        "colab": {
          "base_uri": "https://localhost:8080/"
        },
        "id": "hknNaO2cIDj-",
        "outputId": "bfdba822-bb15-499d-b870-5f8212169aa5"
      },
      "execution_count": 24,
      "outputs": [
        {
          "output_type": "stream",
          "name": "stdout",
          "text": [
            "Requirement already satisfied: sentence-transformers in /usr/local/lib/python3.10/dist-packages (2.6.1)\n",
            "Requirement already satisfied: transformers<5.0.0,>=4.32.0 in /usr/local/lib/python3.10/dist-packages (from sentence-transformers) (4.38.2)\n",
            "Requirement already satisfied: tqdm in /usr/local/lib/python3.10/dist-packages (from sentence-transformers) (4.66.2)\n",
            "Requirement already satisfied: torch>=1.11.0 in /usr/local/lib/python3.10/dist-packages (from sentence-transformers) (2.2.1+cu121)\n",
            "Requirement already satisfied: numpy in /usr/local/lib/python3.10/dist-packages (from sentence-transformers) (1.25.2)\n",
            "Requirement already satisfied: scikit-learn in /usr/local/lib/python3.10/dist-packages (from sentence-transformers) (1.2.2)\n",
            "Requirement already satisfied: scipy in /usr/local/lib/python3.10/dist-packages (from sentence-transformers) (1.11.4)\n",
            "Requirement already satisfied: huggingface-hub>=0.15.1 in /usr/local/lib/python3.10/dist-packages (from sentence-transformers) (0.20.3)\n",
            "Requirement already satisfied: Pillow in /usr/local/lib/python3.10/dist-packages (from sentence-transformers) (9.4.0)\n",
            "Requirement already satisfied: filelock in /usr/local/lib/python3.10/dist-packages (from huggingface-hub>=0.15.1->sentence-transformers) (3.13.4)\n",
            "Requirement already satisfied: fsspec>=2023.5.0 in /usr/local/lib/python3.10/dist-packages (from huggingface-hub>=0.15.1->sentence-transformers) (2023.6.0)\n",
            "Requirement already satisfied: requests in /usr/local/lib/python3.10/dist-packages (from huggingface-hub>=0.15.1->sentence-transformers) (2.31.0)\n",
            "Requirement already satisfied: pyyaml>=5.1 in /usr/local/lib/python3.10/dist-packages (from huggingface-hub>=0.15.1->sentence-transformers) (6.0.1)\n",
            "Requirement already satisfied: typing-extensions>=3.7.4.3 in /usr/local/lib/python3.10/dist-packages (from huggingface-hub>=0.15.1->sentence-transformers) (4.11.0)\n",
            "Requirement already satisfied: packaging>=20.9 in /usr/local/lib/python3.10/dist-packages (from huggingface-hub>=0.15.1->sentence-transformers) (24.0)\n",
            "Requirement already satisfied: sympy in /usr/local/lib/python3.10/dist-packages (from torch>=1.11.0->sentence-transformers) (1.12)\n",
            "Requirement already satisfied: networkx in /usr/local/lib/python3.10/dist-packages (from torch>=1.11.0->sentence-transformers) (3.3)\n",
            "Requirement already satisfied: jinja2 in /usr/local/lib/python3.10/dist-packages (from torch>=1.11.0->sentence-transformers) (3.1.3)\n",
            "Requirement already satisfied: nvidia-cuda-nvrtc-cu12==12.1.105 in /usr/local/lib/python3.10/dist-packages (from torch>=1.11.0->sentence-transformers) (12.1.105)\n",
            "Requirement already satisfied: nvidia-cuda-runtime-cu12==12.1.105 in /usr/local/lib/python3.10/dist-packages (from torch>=1.11.0->sentence-transformers) (12.1.105)\n",
            "Requirement already satisfied: nvidia-cuda-cupti-cu12==12.1.105 in /usr/local/lib/python3.10/dist-packages (from torch>=1.11.0->sentence-transformers) (12.1.105)\n",
            "Requirement already satisfied: nvidia-cudnn-cu12==8.9.2.26 in /usr/local/lib/python3.10/dist-packages (from torch>=1.11.0->sentence-transformers) (8.9.2.26)\n",
            "Requirement already satisfied: nvidia-cublas-cu12==12.1.3.1 in /usr/local/lib/python3.10/dist-packages (from torch>=1.11.0->sentence-transformers) (12.1.3.1)\n",
            "Requirement already satisfied: nvidia-cufft-cu12==11.0.2.54 in /usr/local/lib/python3.10/dist-packages (from torch>=1.11.0->sentence-transformers) (11.0.2.54)\n",
            "Requirement already satisfied: nvidia-curand-cu12==10.3.2.106 in /usr/local/lib/python3.10/dist-packages (from torch>=1.11.0->sentence-transformers) (10.3.2.106)\n",
            "Requirement already satisfied: nvidia-cusolver-cu12==11.4.5.107 in /usr/local/lib/python3.10/dist-packages (from torch>=1.11.0->sentence-transformers) (11.4.5.107)\n",
            "Requirement already satisfied: nvidia-cusparse-cu12==12.1.0.106 in /usr/local/lib/python3.10/dist-packages (from torch>=1.11.0->sentence-transformers) (12.1.0.106)\n",
            "Requirement already satisfied: nvidia-nccl-cu12==2.19.3 in /usr/local/lib/python3.10/dist-packages (from torch>=1.11.0->sentence-transformers) (2.19.3)\n",
            "Requirement already satisfied: nvidia-nvtx-cu12==12.1.105 in /usr/local/lib/python3.10/dist-packages (from torch>=1.11.0->sentence-transformers) (12.1.105)\n",
            "Requirement already satisfied: triton==2.2.0 in /usr/local/lib/python3.10/dist-packages (from torch>=1.11.0->sentence-transformers) (2.2.0)\n",
            "Requirement already satisfied: nvidia-nvjitlink-cu12 in /usr/local/lib/python3.10/dist-packages (from nvidia-cusolver-cu12==11.4.5.107->torch>=1.11.0->sentence-transformers) (12.4.127)\n",
            "Requirement already satisfied: regex!=2019.12.17 in /usr/local/lib/python3.10/dist-packages (from transformers<5.0.0,>=4.32.0->sentence-transformers) (2023.12.25)\n",
            "Requirement already satisfied: tokenizers<0.19,>=0.14 in /usr/local/lib/python3.10/dist-packages (from transformers<5.0.0,>=4.32.0->sentence-transformers) (0.15.2)\n",
            "Requirement already satisfied: safetensors>=0.4.1 in /usr/local/lib/python3.10/dist-packages (from transformers<5.0.0,>=4.32.0->sentence-transformers) (0.4.2)\n",
            "Requirement already satisfied: joblib>=1.1.1 in /usr/local/lib/python3.10/dist-packages (from scikit-learn->sentence-transformers) (1.4.0)\n",
            "Requirement already satisfied: threadpoolctl>=2.0.0 in /usr/local/lib/python3.10/dist-packages (from scikit-learn->sentence-transformers) (3.4.0)\n",
            "Requirement already satisfied: MarkupSafe>=2.0 in /usr/local/lib/python3.10/dist-packages (from jinja2->torch>=1.11.0->sentence-transformers) (2.1.5)\n",
            "Requirement already satisfied: charset-normalizer<4,>=2 in /usr/local/lib/python3.10/dist-packages (from requests->huggingface-hub>=0.15.1->sentence-transformers) (3.3.2)\n",
            "Requirement already satisfied: idna<4,>=2.5 in /usr/local/lib/python3.10/dist-packages (from requests->huggingface-hub>=0.15.1->sentence-transformers) (3.6)\n",
            "Requirement already satisfied: urllib3<3,>=1.21.1 in /usr/local/lib/python3.10/dist-packages (from requests->huggingface-hub>=0.15.1->sentence-transformers) (2.0.7)\n",
            "Requirement already satisfied: certifi>=2017.4.17 in /usr/local/lib/python3.10/dist-packages (from requests->huggingface-hub>=0.15.1->sentence-transformers) (2024.2.2)\n",
            "Requirement already satisfied: mpmath>=0.19 in /usr/local/lib/python3.10/dist-packages (from sympy->torch>=1.11.0->sentence-transformers) (1.3.0)\n"
          ]
        }
      ]
    },
    {
      "cell_type": "code",
      "execution_count": 25,
      "metadata": {
        "id": "vUiU2vuNH3lf"
      },
      "outputs": [],
      "source": [
        "import time\n",
        "import pandas as pd\n",
        "import torch\n",
        "from transformers import BertTokenizer, BertModel\n",
        "from sentence_transformers import SentenceTransformer"
      ]
    },
    {
      "cell_type": "code",
      "source": [
        "# Define dense retrieval function for Sentence Transformers\n",
        "def dense_retrieval(query, model, description_embeddings):\n",
        "    query_embedding = model.encode(query, convert_to_tensor=True)\n",
        "    similarities = torch.nn.functional.cosine_similarity(query_embedding.unsqueeze(0), description_embeddings)\n",
        "    sorted_indices = similarities.argsort(descending=True)\n",
        "    return sorted_indices\n"
      ],
      "metadata": {
        "id": "GzdO_Q1aP8M9"
      },
      "execution_count": 26,
      "outputs": []
    },
    {
      "cell_type": "code",
      "source": [
        "# Define dense retrieval function for BERT\n",
        "def dense_retrieval_bert(query, descriptions, tokenizer, model):\n",
        "    encoded_query = tokenizer(query, padding=True, truncation=True, return_tensors='pt')\n",
        "    with torch.no_grad():\n",
        "        query_outputs = model(**encoded_query)\n",
        "        query_embedding = torch.mean(query_outputs.last_hidden_state, dim=1).squeeze(0)\n",
        "        similarities = torch.nn.functional.cosine_similarity(query_embedding, descriptions)\n",
        "        sorted_indices = similarities.argsort(descending=True)\n",
        "        return sorted_indices"
      ],
      "metadata": {
        "id": "BVAriQXZP9hq"
      },
      "execution_count": 27,
      "outputs": []
    },
    {
      "cell_type": "code",
      "source": [
        "#sentence transformer\n",
        "start_time = time.time()"
      ],
      "metadata": {
        "id": "-jjHbsTQH6GZ"
      },
      "execution_count": 28,
      "outputs": []
    },
    {
      "cell_type": "code",
      "source": [
        "# Load dataset\n",
        "excel_file_path = \"datasetfile.csv\"\n",
        "df = pd.read_csv(excel_file_path, encoding='utf-8')"
      ],
      "metadata": {
        "id": "ymqVBa7JINSC"
      },
      "execution_count": 29,
      "outputs": []
    },
    {
      "cell_type": "code",
      "source": [
        "# Load Sentence Transformer model\n",
        "model = SentenceTransformer('paraphrase-mpnet-base-v2')\n",
        "description_embeddings = model.encode(df['Description'].tolist(), convert_to_tensor=True)"
      ],
      "metadata": {
        "id": "U1k4sQFTIWpn"
      },
      "execution_count": null,
      "outputs": []
    },
    {
      "cell_type": "code",
      "source": [
        "# Perform dense retrieval\n",
        "query = \"Trade\"\n",
        "sorted_indices = dense_retrieval(query, model, description_embeddings)\n",
        "end_time_sentence_transformers = time.time()\n"
      ],
      "metadata": {
        "id": "lMU6IgjiIkA2"
      },
      "execution_count": null,
      "outputs": []
    },
    {
      "cell_type": "code",
      "source": [
        "# Print top results\n",
        "print(\"Top results using Sentence Transformers:\")\n",
        "for idx in sorted_indices[:10]:\n",
        "    print(df['Description'][idx.item()])"
      ],
      "metadata": {
        "id": "z9VWHsRTIoDT"
      },
      "execution_count": null,
      "outputs": []
    },
    {
      "cell_type": "code",
      "source": [
        "# Code 2: BERT\n",
        "start_time_bert = time.time()"
      ],
      "metadata": {
        "id": "Zlme2FwZJFNw"
      },
      "execution_count": null,
      "outputs": []
    },
    {
      "cell_type": "code",
      "source": [
        "# Load dataset\n",
        "excel_file_path = \"datasetfile.csv\"\n",
        "df = pd.read_csv(excel_file_path, encoding='utf-8')"
      ],
      "metadata": {
        "id": "CW-IMrmZJHpF"
      },
      "execution_count": null,
      "outputs": []
    },
    {
      "cell_type": "code",
      "source": [
        "# Load BERT tokenizer and model\n",
        "tokenizer = BertTokenizer.from_pretrained('bert-base-uncased')\n",
        "model = BertModel.from_pretrained('bert-base-uncased')"
      ],
      "metadata": {
        "id": "pAYjJWB4JJp_"
      },
      "execution_count": null,
      "outputs": []
    },
    {
      "cell_type": "code",
      "source": [
        "# Tokenize and encode descriptions\n",
        "encoded_descriptions = []\n",
        "for description in df['Description'].tolist():\n",
        "    encoded_input = tokenizer(description, padding=True, truncation=True, return_tensors='pt')\n",
        "    with torch.no_grad():\n",
        "        outputs = model(**encoded_input)\n",
        "        embeddings = torch.mean(outputs.last_hidden_state, dim=1).squeeze(0)\n",
        "        encoded_descriptions.append(embeddings.numpy())"
      ],
      "metadata": {
        "id": "12bFau6sJLfF"
      },
      "execution_count": null,
      "outputs": []
    },
    {
      "cell_type": "code",
      "source": [
        "# Convert embeddings to tensor\n",
        "encoded_descriptions_tensors = [torch.from_numpy(arr) for arr in encoded_descriptions]\n",
        "embedding_array = torch.stack(encoded_descriptions_tensors).numpy()\n"
      ],
      "metadata": {
        "id": "LhuxMahHJNoe"
      },
      "execution_count": null,
      "outputs": []
    },
    {
      "cell_type": "code",
      "source": [
        "# Perform dense retrieval with BERT\n",
        "query = \"Historical era\"\n",
        "descriptions_tensor = torch.tensor(embedding_array)\n",
        "sorted_indices = dense_retrieval_bert(query, descriptions_tensor, tokenizer, model)\n",
        "end_time_bert = time.time()"
      ],
      "metadata": {
        "id": "WtJ3bx14JPti"
      },
      "execution_count": null,
      "outputs": []
    },
    {
      "cell_type": "code",
      "source": [
        "# Print top results\n",
        "print(\"Top results using BERT:\")\n",
        "for idx in sorted_indices[:10]:\n",
        "    print(df['Description'][idx.item()])"
      ],
      "metadata": {
        "id": "UgnpTb7mJRtT"
      },
      "execution_count": null,
      "outputs": []
    },
    {
      "cell_type": "code",
      "source": [
        "# Measure execution times\n",
        "time_taken_sentence_transformers = end_time_sentence_transformers - start_time\n",
        "time_taken_bert = end_time_bert - start_time_bert\n"
      ],
      "metadata": {
        "id": "jS3aiRGLJYyO"
      },
      "execution_count": null,
      "outputs": []
    },
    {
      "cell_type": "code",
      "source": [
        "# Print execution times\n",
        "print(\"Time taken by Sentence Transformers:\", time_taken_sentence_transformers, \"seconds\")\n",
        "print(\"Time taken by BERT:\", time_taken_bert, \"seconds\")"
      ],
      "metadata": {
        "id": "D451e6jnJcJ2"
      },
      "execution_count": null,
      "outputs": []
    },
    {
      "cell_type": "code",
      "source": [
        "import matplotlib.pyplot as plt"
      ],
      "metadata": {
        "id": "1cUXZu1GyFkW"
      },
      "execution_count": null,
      "outputs": []
    },
    {
      "cell_type": "code",
      "source": [
        "# Draw graphs for execution time\n",
        "labels = ['Sentence Transformers', 'BERT']\n",
        "times = [time_taken_sentence_transformers, time_taken_bert]\n",
        "\n",
        "plt.figure(figsize=(10, 5))\n",
        "plt.bar(labels, times, color=['blue', 'orange'])\n",
        "plt.title('Execution Time Comparison')\n",
        "plt.xlabel('Models')\n",
        "plt.ylabel('Time (seconds)')\n",
        "plt.show()\n"
      ],
      "metadata": {
        "id": "N4oB2rftJegL"
      },
      "execution_count": null,
      "outputs": []
    },
    {
      "cell_type": "code",
      "source": [
        "njk"
      ],
      "metadata": {
        "id": "l_fV41V7J2hP"
      },
      "execution_count": null,
      "outputs": []
    }
  ]
}
